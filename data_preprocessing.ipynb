{
 "cells": [
  {
   "cell_type": "code",
   "execution_count": 1,
   "metadata": {},
   "outputs": [],
   "source": [
    "import pandas as pd\n",
    "pd.set_option('display.max_columns', None)\n",
    "pd.set_option('display.max_rows', None)\n",
    "import numpy as np"
   ]
  },
  {
   "cell_type": "code",
   "execution_count": 2,
   "metadata": {},
   "outputs": [],
   "source": [
    "Data = pd.read_csv('Dataset-Unilever.csv')"
   ]
  },
  {
   "cell_type": "code",
   "execution_count": 4,
   "metadata": {},
   "outputs": [
    {
     "data": {
      "text/plain": [
       "Index([' YEAR ', ' MONTH ', ' SALESMAN_CODE ', ' channel ', ' subchannel ',\n",
       "       ' CUSTOMER_CODE ', ' ORDERNO ', ' DISTRICTNAMEE ', ' CITYNAMEE ',\n",
       "       ' AREANAMEE ', ' TOT_CATEGORY_DESC ', ' CATEGORY_DESC ', ' BRAND_DESC ',\n",
       "       ' Chiffre d'affaire ', ' KD ', ' Active ', ' Customer Address ',\n",
       "       ' Lattitude ', ' Longitude ', ' Saturday ', ' Sunday ', ' Monday ',\n",
       "       ' Tuesday ', ' Wednesday ', ' Thursday ', ' Friday ', ' Selling Type '],\n",
       "      dtype='object')"
      ]
     },
     "execution_count": 4,
     "metadata": {},
     "output_type": "execute_result"
    }
   ],
   "source": [
    "Data.columns"
   ]
  },
  {
   "cell_type": "markdown",
   "metadata": {},
   "source": [
    "We group them first by the customer_code, we suppose that we have a uniquer costumer code per area and this is confirmed through the follwing"
   ]
  },
  {
   "cell_type": "code",
   "execution_count": 5,
   "metadata": {},
   "outputs": [],
   "source": [
    "for i in range(Data[' CUSTOMER_CODE '].unique().shape[0]):\n",
    "    if (Data[Data[' CUSTOMER_CODE '] == Data[' CUSTOMER_CODE '].unique()[1570]][\" AREANAMEE \"].unique().shape[0] !=1):\n",
    "        print('The theory is wrong')\n",
    "    "
   ]
  },
  {
   "cell_type": "code",
   "execution_count": 6,
   "metadata": {},
   "outputs": [],
   "source": [
    "df = Data.sort_values(by = ' CUSTOMER_CODE ')\n",
    "df.drop(' DISTRICTNAMEE ',axis=1 ,inplace=True)\n",
    "df.drop(' YEAR ',axis=1, inplace=True) "
   ]
  },
  {
   "cell_type": "code",
   "execution_count": 8,
   "metadata": {},
   "outputs": [],
   "source": [
    "def calculate_products(visit_plan_code):\n",
    "    if visit_plan_code == 0:\n",
    "        return [0, 0, 0, 0]  # No visit\n",
    "    elif visit_plan_code == 1:\n",
    "        return [1, 0, 1, 0] \n",
    "    elif visit_plan_code == 2:\n",
    "        return [0, 1, 0, 1] # Example value for monthly visits\n",
    "    elif visit_plan_code == 3:\n",
    "        return [1, 1, 1, 1]\n",
    "    elif visit_plan_code == 4:\n",
    "        return [1, 0, 0, 0]\n",
    "    elif visit_plan_code == 5:\n",
    "        return [0, 1, 0, 0]\n",
    "    elif visit_plan_code == 6:\n",
    "        return [0, 0, 1, 0]\n",
    "    elif visit_plan_code == 7:\n",
    "        return [0, 0, 0, 1]\n",
    "    else:\n",
    "        pass\n",
    "\n",
    "# Example customer code\n",
    "customer_code = 350110245\n",
    "\n",
    "# Filter data for the specific customer\n",
    "customer_data = df[df[' CUSTOMER_CODE '] == customer_code]\n",
    "\n"
   ]
  },
  {
   "cell_type": "code",
   "execution_count": 9,
   "metadata": {},
   "outputs": [
    {
     "data": {
      "text/html": [
       "<div>\n",
       "<style scoped>\n",
       "    .dataframe tbody tr th:only-of-type {\n",
       "        vertical-align: middle;\n",
       "    }\n",
       "\n",
       "    .dataframe tbody tr th {\n",
       "        vertical-align: top;\n",
       "    }\n",
       "\n",
       "    .dataframe thead th {\n",
       "        text-align: right;\n",
       "    }\n",
       "</style>\n",
       "<table border=\"1\" class=\"dataframe\">\n",
       "  <thead>\n",
       "    <tr style=\"text-align: right;\">\n",
       "      <th></th>\n",
       "      <th>MONTH</th>\n",
       "      <th>SALESMAN_CODE</th>\n",
       "      <th>channel</th>\n",
       "      <th>subchannel</th>\n",
       "      <th>CUSTOMER_CODE</th>\n",
       "      <th>ORDERNO</th>\n",
       "      <th>CITYNAMEE</th>\n",
       "      <th>AREANAMEE</th>\n",
       "      <th>TOT_CATEGORY_DESC</th>\n",
       "      <th>CATEGORY_DESC</th>\n",
       "      <th>BRAND_DESC</th>\n",
       "      <th>Chiffre d'affaire</th>\n",
       "      <th>KD</th>\n",
       "      <th>Active</th>\n",
       "      <th>Customer Address</th>\n",
       "      <th>Lattitude</th>\n",
       "      <th>Longitude</th>\n",
       "      <th>Saturday</th>\n",
       "      <th>Sunday</th>\n",
       "      <th>Monday</th>\n",
       "      <th>Tuesday</th>\n",
       "      <th>Wednesday</th>\n",
       "      <th>Thursday</th>\n",
       "      <th>Friday</th>\n",
       "      <th>Selling Type</th>\n",
       "    </tr>\n",
       "  </thead>\n",
       "  <tbody>\n",
       "    <tr>\n",
       "      <th>85456</th>\n",
       "      <td>3.0</td>\n",
       "      <td>3501084.0</td>\n",
       "      <td>20.0</td>\n",
       "      <td>201.0</td>\n",
       "      <td>350110245.0</td>\n",
       "      <td>3,501,368,317.00</td>\n",
       "      <td>Baraki</td>\n",
       "      <td>Baraki</td>\n",
       "      <td>Home Care</td>\n",
       "      <td>OMO</td>\n",
       "      <td>OMO HS</td>\n",
       "      <td>2,308.35</td>\n",
       "      <td>ALGER/BOUMERDES</td>\n",
       "      <td>1.00</td>\n",
       "      <td>Cité amirat baraki</td>\n",
       "      <td>36.64</td>\n",
       "      <td>3.11</td>\n",
       "      <td>0.0</td>\n",
       "      <td>0.0</td>\n",
       "      <td>0.0</td>\n",
       "      <td>0.0</td>\n",
       "      <td>0.0</td>\n",
       "      <td>3.0</td>\n",
       "      <td>0.0</td>\n",
       "      <td>HPC</td>\n",
       "    </tr>\n",
       "    <tr>\n",
       "      <th>66421</th>\n",
       "      <td>2.0</td>\n",
       "      <td>3501084.0</td>\n",
       "      <td>20.0</td>\n",
       "      <td>201.0</td>\n",
       "      <td>350110245.0</td>\n",
       "      <td>3,501,364,276.00</td>\n",
       "      <td>Baraki</td>\n",
       "      <td>Baraki</td>\n",
       "      <td>Home Care</td>\n",
       "      <td>OMO</td>\n",
       "      <td>OMO HS</td>\n",
       "      <td>2,296.33</td>\n",
       "      <td>ALGER/BOUMERDES</td>\n",
       "      <td>1.00</td>\n",
       "      <td>Cité amirat baraki</td>\n",
       "      <td>36.64</td>\n",
       "      <td>3.11</td>\n",
       "      <td>0.0</td>\n",
       "      <td>0.0</td>\n",
       "      <td>0.0</td>\n",
       "      <td>0.0</td>\n",
       "      <td>0.0</td>\n",
       "      <td>3.0</td>\n",
       "      <td>0.0</td>\n",
       "      <td>HPC</td>\n",
       "    </tr>\n",
       "    <tr>\n",
       "      <th>85457</th>\n",
       "      <td>3.0</td>\n",
       "      <td>3501084.0</td>\n",
       "      <td>20.0</td>\n",
       "      <td>201.0</td>\n",
       "      <td>350110245.0</td>\n",
       "      <td>3,501,368,317.00</td>\n",
       "      <td>Baraki</td>\n",
       "      <td>Baraki</td>\n",
       "      <td>Home Care</td>\n",
       "      <td>SURF</td>\n",
       "      <td>SURF HS</td>\n",
       "      <td>1,808.47</td>\n",
       "      <td>ALGER/BOUMERDES</td>\n",
       "      <td>1.00</td>\n",
       "      <td>Cité amirat baraki</td>\n",
       "      <td>36.64</td>\n",
       "      <td>3.11</td>\n",
       "      <td>0.0</td>\n",
       "      <td>0.0</td>\n",
       "      <td>0.0</td>\n",
       "      <td>0.0</td>\n",
       "      <td>0.0</td>\n",
       "      <td>3.0</td>\n",
       "      <td>0.0</td>\n",
       "      <td>HPC</td>\n",
       "    </tr>\n",
       "    <tr>\n",
       "      <th>85455</th>\n",
       "      <td>3.0</td>\n",
       "      <td>3501084.0</td>\n",
       "      <td>20.0</td>\n",
       "      <td>201.0</td>\n",
       "      <td>350110245.0</td>\n",
       "      <td>3,501,368,317.00</td>\n",
       "      <td>Baraki</td>\n",
       "      <td>Baraki</td>\n",
       "      <td>Home Care</td>\n",
       "      <td>OMO</td>\n",
       "      <td>OMO HS</td>\n",
       "      <td>1,951.33</td>\n",
       "      <td>ALGER/BOUMERDES</td>\n",
       "      <td>1.00</td>\n",
       "      <td>Cité amirat baraki</td>\n",
       "      <td>36.64</td>\n",
       "      <td>3.11</td>\n",
       "      <td>0.0</td>\n",
       "      <td>0.0</td>\n",
       "      <td>0.0</td>\n",
       "      <td>0.0</td>\n",
       "      <td>0.0</td>\n",
       "      <td>3.0</td>\n",
       "      <td>0.0</td>\n",
       "      <td>HPC</td>\n",
       "    </tr>\n",
       "    <tr>\n",
       "      <th>66420</th>\n",
       "      <td>2.0</td>\n",
       "      <td>3501084.0</td>\n",
       "      <td>20.0</td>\n",
       "      <td>201.0</td>\n",
       "      <td>350110245.0</td>\n",
       "      <td>3,501,364,276.00</td>\n",
       "      <td>Baraki</td>\n",
       "      <td>Baraki</td>\n",
       "      <td>Home Care</td>\n",
       "      <td>OMO</td>\n",
       "      <td>OMO HS</td>\n",
       "      <td>2,331.33</td>\n",
       "      <td>ALGER/BOUMERDES</td>\n",
       "      <td>1.00</td>\n",
       "      <td>Cité amirat baraki</td>\n",
       "      <td>36.64</td>\n",
       "      <td>3.11</td>\n",
       "      <td>0.0</td>\n",
       "      <td>0.0</td>\n",
       "      <td>0.0</td>\n",
       "      <td>0.0</td>\n",
       "      <td>0.0</td>\n",
       "      <td>3.0</td>\n",
       "      <td>0.0</td>\n",
       "      <td>HPC</td>\n",
       "    </tr>\n",
       "  </tbody>\n",
       "</table>\n",
       "</div>"
      ],
      "text/plain": [
       "       MONTH   SALESMAN_CODE   channel   subchannel   CUSTOMER_CODE   \\\n",
       "85456     3.0       3501084.0      20.0        201.0     350110245.0   \n",
       "66421     2.0       3501084.0      20.0        201.0     350110245.0   \n",
       "85457     3.0       3501084.0      20.0        201.0     350110245.0   \n",
       "85455     3.0       3501084.0      20.0        201.0     350110245.0   \n",
       "66420     2.0       3501084.0      20.0        201.0     350110245.0   \n",
       "\n",
       "                 ORDERNO  CITYNAMEE  AREANAMEE  TOT_CATEGORY_DESC   \\\n",
       "85456   3,501,368,317.00     Baraki     Baraki          Home Care    \n",
       "66421   3,501,364,276.00     Baraki     Baraki          Home Care    \n",
       "85457   3,501,368,317.00     Baraki     Baraki          Home Care    \n",
       "85455   3,501,368,317.00     Baraki     Baraki          Home Care    \n",
       "66420   3,501,364,276.00     Baraki     Baraki          Home Care    \n",
       "\n",
       "      CATEGORY_DESC  BRAND_DESC  Chiffre d'affaire                 KD   \\\n",
       "85456           OMO      OMO HS           2,308.35    ALGER/BOUMERDES    \n",
       "66421           OMO      OMO HS           2,296.33    ALGER/BOUMERDES    \n",
       "85457          SURF     SURF HS           1,808.47    ALGER/BOUMERDES    \n",
       "85455           OMO      OMO HS           1,951.33    ALGER/BOUMERDES    \n",
       "66420           OMO      OMO HS           2,331.33    ALGER/BOUMERDES    \n",
       "\n",
       "      Active      Customer Address  Lattitude  Longitude   Saturday   Sunday   \\\n",
       "85456   1.00    Cité amirat baraki      36.64       3.11         0.0      0.0   \n",
       "66421   1.00    Cité amirat baraki      36.64       3.11         0.0      0.0   \n",
       "85457   1.00    Cité amirat baraki      36.64       3.11         0.0      0.0   \n",
       "85455   1.00    Cité amirat baraki      36.64       3.11         0.0      0.0   \n",
       "66420   1.00    Cité amirat baraki      36.64       3.11         0.0      0.0   \n",
       "\n",
       "       Monday   Tuesday   Wednesday   Thursday   Friday  Selling Type   \n",
       "85456      0.0       0.0         0.0        3.0      0.0          HPC   \n",
       "66421      0.0       0.0         0.0        3.0      0.0          HPC   \n",
       "85457      0.0       0.0         0.0        3.0      0.0          HPC   \n",
       "85455      0.0       0.0         0.0        3.0      0.0          HPC   \n",
       "66420      0.0       0.0         0.0        3.0      0.0          HPC   "
      ]
     },
     "execution_count": 9,
     "metadata": {},
     "output_type": "execute_result"
    }
   ],
   "source": [
    "customer_data"
   ]
  },
  {
   "cell_type": "code",
   "execution_count": 10,
   "metadata": {},
   "outputs": [
    {
     "name": "stdout",
     "output_type": "stream",
     "text": [
      "[0, 0, 0, 0]\n",
      "[0, 0, 0, 0]\n",
      "[0, 0, 0, 0]\n",
      "[0, 0, 0, 0]\n",
      "[1, 1, 1, 1]\n",
      "[0, 0, 0, 0]\n",
      "[0, 0, 0, 0]\n"
     ]
    }
   ],
   "source": [
    "products_per_area = {}\n",
    "# we need to add the month specification\n",
    "# Iterate over days of the week\n",
    "for day in [' Sunday ', ' Monday ', ' Tuesday ', ' Wednesday ', ' Thursday ', ' Friday ', ' Saturday ']:\n",
    "    # Get visit plan code for the day\n",
    "    visit_plan_code = customer_data[day].iloc[4]  # Assuming same plan for all rows of the same customer\n",
    "    \n",
    "    # Calculate products for the day based on visit plan code\n",
    "    products = calculate_products(visit_plan_code)\n",
    "    print(products)\n",
    "    "
   ]
  },
  {
   "cell_type": "code",
   "execution_count": 11,
   "metadata": {},
   "outputs": [],
   "source": [
    "weekdays = [' Sunday ', ' Monday ', ' Tuesday ', ' Wednesday ', ' Thursday ', ' Friday ', ' Saturday ']\n",
    "dft = df.copy()"
   ]
  },
  {
   "cell_type": "code",
   "execution_count": 12,
   "metadata": {},
   "outputs": [],
   "source": [
    "for day in weekdays:\n",
    "    df[day] = df[day].apply(calculate_products)\n",
    "dft = df.copy()"
   ]
  },
  {
   "cell_type": "code",
   "execution_count": 14,
   "metadata": {},
   "outputs": [
    {
     "name": "stderr",
     "output_type": "stream",
     "text": [
      "/tmp/ipykernel_49258/2849127938.py:14: SettingWithCopyWarning: \n",
      "A value is trying to be set on a copy of a slice from a DataFrame\n",
      "\n",
      "See the caveats in the documentation: https://pandas.pydata.org/pandas-docs/stable/user_guide/indexing.html#returning-a-view-versus-a-copy\n",
      "  df[df[' CUSTOMER_CODE ']==customer_code][day][id] = product_per_single_day_and_customer\n"
     ]
    }
   ],
   "source": [
    "data_final = pd.DataFrame()\n",
    "for m in dft[' MONTH '].unique():\n",
    "    # Preparing the dataset\n",
    "    df = dft.copy()\n",
    "    # dft.set_index(' CUSTOMER_CODE ',inplace=True)\n",
    "    df = df[df[' MONTH ']==m]\n",
    "    #df.drop(' MONTH ', axis=1, inplace=True)\n",
    "    df.head()\n",
    "    for customer_code in df[' CUSTOMER_CODE '].unique():\n",
    "        df_new = df[df[' CUSTOMER_CODE ']==customer_code]\n",
    "        for day in weekdays:\n",
    "            product_per_single_day_and_customer = df_new[day].apply(np.array).sum()\n",
    "            for id in df[df[' CUSTOMER_CODE ']==customer_code][day].index:\n",
    "                df[df[' CUSTOMER_CODE ']==customer_code][day][id] = product_per_single_day_and_customer\n",
    "    data_final = pd.concat([data_final, df])\n",
    "\n"
   ]
  },
  {
   "cell_type": "code",
   "execution_count": 15,
   "metadata": {},
   "outputs": [
    {
     "data": {
      "text/plain": [
       "array([9.02030250e+07, 9.02030450e+07, 9.02030490e+07, ...,\n",
       "       3.50110243e+08, 3.50110244e+08, 3.50110245e+08])"
      ]
     },
     "execution_count": 15,
     "metadata": {},
     "output_type": "execute_result"
    }
   ],
   "source": [
    "dft[' CUSTOMER_CODE '].unique()"
   ]
  },
  {
   "cell_type": "code",
   "execution_count": 16,
   "metadata": {},
   "outputs": [],
   "source": [
    "df = data_final"
   ]
  },
  {
   "cell_type": "code",
   "execution_count": 17,
   "metadata": {
    "scrolled": true
   },
   "outputs": [
    {
     "data": {
      "text/plain": [
       "array([' 2.94 ', ' 2.90 ', ' 2.92 ', ' 2.91 ', ' 2.93 ', ' 36.79 ',\n",
       "       ' 2.98 ', ' 3.29 ', ' 3.28 ', ' 3.31 ', ' 3.30 ', ' 3.25 ',\n",
       "       ' 3.26 ', ' 3.06 ', ' 3.05 ', ' -   ', ' 3.02 ', ' 3.09 ',\n",
       "       ' 3.18 ', ' 3.17 ', ' 3.20 ', ' 3.19 ', ' 3.22 ', ' 36.78 ',\n",
       "       ' 3.24 ', ' 2.96 ', ' 2.97 ', ' 2.99 ', ' 2.95 ', ' 3.12 ',\n",
       "       ' 3.11 ', ' 3.08 ', ' 3.10 ', ' 3.07 ', ' 7.36 ', ' 3.13 ',\n",
       "       ' 3.01 ', ' 3.00 ', ' 3.04 ', ' 3.03 ', ' 3.23 ', ' 3.21 ',\n",
       "       ' 3.27 ', ' 36.76 ', ' 3.15 ', ' 3.14 ', ' 3.16 ', ' 2.81 ',\n",
       "       ' 3.32 ', ' 3.33 ', ' 2.85 ', ' 2.88 ', ' 2.84 ', ' 2.86 ',\n",
       "       ' 2.87 ', ' 2.89 ', ' 3.35 ', ' 3.36 ', ' 3.34 ', ' 3.37 ',\n",
       "       ' 36.74 ', ' 2.83 '], dtype=object)"
      ]
     },
     "execution_count": 17,
     "metadata": {},
     "output_type": "execute_result"
    }
   ],
   "source": [
    "df.sort_values(by=' AREANAMEE ')[' Longitude '].unique()"
   ]
  },
  {
   "cell_type": "code",
   "execution_count": 123,
   "metadata": {
    "scrolled": true
   },
   "outputs": [],
   "source": [
    "df = df.sort_values(by=' AREANAMEE ')\n",
    "df.loc[df[' Lattitude '] == ' -   ',[' Lattitude ']] = ' 36.79 '\n",
    "df.loc[df[' Longitude '] == ' -   ',[' Longitude ']] = ' 2.94 '\n"
   ]
  },
  {
   "cell_type": "code",
   "execution_count": 124,
   "metadata": {
    "scrolled": true
   },
   "outputs": [
    {
     "data": {
      "text/plain": [
       "array([' 36.79 ', ' 36.80 ', ' 36.68 ', ' 2.91 ', ' 36.78 ', ' 36.72 ',\n",
       "       ' 36.77 ', ' 36.76 ', ' 36.74 ', ' 3.25 ', ' 36.73 ', ' 36.71 ',\n",
       "       ' 36.69 ', ' 36.70 ', ' 36.67 ', ' 36.65 ', ' 36.66 ', ' 41.13 ',\n",
       "       ' 36.64 ', ' 36.75 ', ' 36.59 ', ' 36.61 ', ' 36.62 ', ' 36.82 ',\n",
       "       ' 36.81 ', ' 36.58 ', ' 36.63 ', ' 36.55 ', ' 36.60 ', ' 3.06 '],\n",
       "      dtype=object)"
      ]
     },
     "execution_count": 124,
     "metadata": {},
     "output_type": "execute_result"
    }
   ],
   "source": [
    "df[' Lattitude '].unique()"
   ]
  },
  {
   "cell_type": "code",
   "execution_count": 126,
   "metadata": {},
   "outputs": [
    {
     "name": "stdout",
     "output_type": "stream",
     "text": [
      "<class 'pandas.core.frame.DataFrame'>\n",
      "Index: 6544 entries, 50033 to 27980\n",
      "Data columns (total 12 columns):\n",
      " #   Column           Non-Null Count  Dtype \n",
      "---  ------           --------------  ----- \n",
      " 0    MONTH           6544 non-null   object\n",
      " 1    CUSTOMER_CODE   6544 non-null   object\n",
      " 2    AREANAMEE       6544 non-null   object\n",
      " 3    Lattitude       6544 non-null   object\n",
      " 4    Longitude       6544 non-null   object\n",
      " 5    Saturday        6544 non-null   object\n",
      " 6    Sunday          6544 non-null   object\n",
      " 7    Monday          6544 non-null   object\n",
      " 8    Tuesday         6544 non-null   object\n",
      " 9    Wednesday       6544 non-null   object\n",
      " 10   Thursday        6544 non-null   object\n",
      " 11   Friday          6544 non-null   object\n",
      "dtypes: object(12)\n",
      "memory usage: 664.6+ KB\n"
     ]
    }
   ],
   "source": [
    "filtered = df.loc[:, [' MONTH ',' CUSTOMER_CODE ', ' AREANAMEE ',' Lattitude ', ' Longitude ', ' Saturday ', ' Sunday ', ' Monday ', ' Tuesday ', ' Wednesday ', ' Thursday ', ' Friday ']].astype('str').drop_duplicates()\n",
    "filtered.info()"
   ]
  },
  {
   "cell_type": "code",
   "execution_count": 127,
   "metadata": {},
   "outputs": [],
   "source": [
    "filtered = filtered[filtered[' MONTH '] == str(1.0)]"
   ]
  },
  {
   "cell_type": "code",
   "execution_count": 128,
   "metadata": {},
   "outputs": [
    {
     "data": {
      "text/plain": [
       " MONTH \n",
       "1.0    2372\n",
       "Name: count, dtype: int64"
      ]
     },
     "execution_count": 128,
     "metadata": {},
     "output_type": "execute_result"
    }
   ],
   "source": [
    "filtered[' MONTH '].value_counts()"
   ]
  },
  {
   "cell_type": "code",
   "execution_count": 129,
   "metadata": {},
   "outputs": [
    {
     "data": {
      "text/html": [
       "<div>\n",
       "<style scoped>\n",
       "    .dataframe tbody tr th:only-of-type {\n",
       "        vertical-align: middle;\n",
       "    }\n",
       "\n",
       "    .dataframe tbody tr th {\n",
       "        vertical-align: top;\n",
       "    }\n",
       "\n",
       "    .dataframe thead th {\n",
       "        text-align: right;\n",
       "    }\n",
       "</style>\n",
       "<table border=\"1\" class=\"dataframe\">\n",
       "  <thead>\n",
       "    <tr style=\"text-align: right;\">\n",
       "      <th></th>\n",
       "      <th>MONTH</th>\n",
       "      <th>CUSTOMER_CODE</th>\n",
       "      <th>AREANAMEE</th>\n",
       "      <th>Lattitude</th>\n",
       "      <th>Longitude</th>\n",
       "      <th>Saturday</th>\n",
       "      <th>Sunday</th>\n",
       "      <th>Monday</th>\n",
       "      <th>Tuesday</th>\n",
       "      <th>Wednesday</th>\n",
       "      <th>Thursday</th>\n",
       "      <th>Friday</th>\n",
       "    </tr>\n",
       "  </thead>\n",
       "  <tbody>\n",
       "    <tr>\n",
       "      <th>5855</th>\n",
       "      <td>1.0</td>\n",
       "      <td>350106856.0</td>\n",
       "      <td>A?n Benian</td>\n",
       "      <td>36.79</td>\n",
       "      <td>2.92</td>\n",
       "      <td>[0, 0, 0, 0]</td>\n",
       "      <td>[1, 1, 1, 1]</td>\n",
       "      <td>[0, 0, 0, 0]</td>\n",
       "      <td>[0, 0, 0, 0]</td>\n",
       "      <td>[0, 0, 0, 0]</td>\n",
       "      <td>[0, 0, 0, 0]</td>\n",
       "      <td>[0, 0, 0, 0]</td>\n",
       "    </tr>\n",
       "    <tr>\n",
       "      <th>3527</th>\n",
       "      <td>1.0</td>\n",
       "      <td>350104130.0</td>\n",
       "      <td>A?n Benian</td>\n",
       "      <td>36.80</td>\n",
       "      <td>2.91</td>\n",
       "      <td>[0, 0, 0, 0]</td>\n",
       "      <td>[0, 0, 0, 0]</td>\n",
       "      <td>[1, 1, 1, 1]</td>\n",
       "      <td>[0, 0, 0, 0]</td>\n",
       "      <td>[0, 0, 0, 0]</td>\n",
       "      <td>[0, 0, 0, 0]</td>\n",
       "      <td>[0, 0, 0, 0]</td>\n",
       "    </tr>\n",
       "    <tr>\n",
       "      <th>23475</th>\n",
       "      <td>1.0</td>\n",
       "      <td>350104132.0</td>\n",
       "      <td>A?n Benian</td>\n",
       "      <td>36.79</td>\n",
       "      <td>2.92</td>\n",
       "      <td>[0, 0, 0, 0]</td>\n",
       "      <td>[0, 0, 0, 0]</td>\n",
       "      <td>[1, 1, 1, 1]</td>\n",
       "      <td>[0, 0, 0, 0]</td>\n",
       "      <td>[0, 0, 0, 0]</td>\n",
       "      <td>[0, 0, 0, 0]</td>\n",
       "      <td>[0, 0, 0, 0]</td>\n",
       "    </tr>\n",
       "    <tr>\n",
       "      <th>30190</th>\n",
       "      <td>1.0</td>\n",
       "      <td>350107375.0</td>\n",
       "      <td>A?n Benian</td>\n",
       "      <td>36.79</td>\n",
       "      <td>2.91</td>\n",
       "      <td>[0, 0, 0, 0]</td>\n",
       "      <td>[1, 1, 1, 1]</td>\n",
       "      <td>[0, 0, 0, 0]</td>\n",
       "      <td>[0, 0, 0, 0]</td>\n",
       "      <td>[0, 0, 0, 0]</td>\n",
       "      <td>[0, 0, 0, 0]</td>\n",
       "      <td>[0, 0, 0, 0]</td>\n",
       "    </tr>\n",
       "    <tr>\n",
       "      <th>14929</th>\n",
       "      <td>1.0</td>\n",
       "      <td>350106841.0</td>\n",
       "      <td>A?n Benian</td>\n",
       "      <td>36.80</td>\n",
       "      <td>2.93</td>\n",
       "      <td>[0, 0, 0, 0]</td>\n",
       "      <td>[1, 1, 1, 1]</td>\n",
       "      <td>[0, 0, 0, 0]</td>\n",
       "      <td>[0, 0, 0, 0]</td>\n",
       "      <td>[0, 0, 0, 0]</td>\n",
       "      <td>[0, 0, 0, 0]</td>\n",
       "      <td>[0, 0, 0, 0]</td>\n",
       "    </tr>\n",
       "  </tbody>\n",
       "</table>\n",
       "</div>"
      ],
      "text/plain": [
       "      MONTH  CUSTOMER_CODE     AREANAMEE  Lattitude  Longitude      Saturday   \\\n",
       "5855     1.0    350106856.0   A?n Benian      36.79       2.92   [0, 0, 0, 0]   \n",
       "3527     1.0    350104130.0   A?n Benian      36.80       2.91   [0, 0, 0, 0]   \n",
       "23475    1.0    350104132.0   A?n Benian      36.79       2.92   [0, 0, 0, 0]   \n",
       "30190    1.0    350107375.0   A?n Benian      36.79       2.91   [0, 0, 0, 0]   \n",
       "14929    1.0    350106841.0   A?n Benian      36.80       2.93   [0, 0, 0, 0]   \n",
       "\n",
       "            Sunday        Monday       Tuesday     Wednesday      Thursday   \\\n",
       "5855   [1, 1, 1, 1]  [0, 0, 0, 0]  [0, 0, 0, 0]  [0, 0, 0, 0]  [0, 0, 0, 0]   \n",
       "3527   [0, 0, 0, 0]  [1, 1, 1, 1]  [0, 0, 0, 0]  [0, 0, 0, 0]  [0, 0, 0, 0]   \n",
       "23475  [0, 0, 0, 0]  [1, 1, 1, 1]  [0, 0, 0, 0]  [0, 0, 0, 0]  [0, 0, 0, 0]   \n",
       "30190  [1, 1, 1, 1]  [0, 0, 0, 0]  [0, 0, 0, 0]  [0, 0, 0, 0]  [0, 0, 0, 0]   \n",
       "14929  [1, 1, 1, 1]  [0, 0, 0, 0]  [0, 0, 0, 0]  [0, 0, 0, 0]  [0, 0, 0, 0]   \n",
       "\n",
       "            Friday   \n",
       "5855   [0, 0, 0, 0]  \n",
       "3527   [0, 0, 0, 0]  \n",
       "23475  [0, 0, 0, 0]  \n",
       "30190  [0, 0, 0, 0]  \n",
       "14929  [0, 0, 0, 0]  "
      ]
     },
     "execution_count": 129,
     "metadata": {},
     "output_type": "execute_result"
    }
   ],
   "source": [
    "filtered.head()"
   ]
  },
  {
   "cell_type": "code",
   "execution_count": 130,
   "metadata": {},
   "outputs": [],
   "source": [
    "import json\n",
    "columns_to = [' Saturday ', ' Sunday ', ' Monday ', ' Tuesday ', ' Wednesday ', ' Thursday ', ' Friday ']\n",
    "for clm in columns_to:\n",
    "    for i in range(len(filtered)):\n",
    "        array = json.loads(filtered.loc[:, [clm]].values[i][0])\n",
    "        filtered[str(clm) + ' - First Week'] = array[0]\n",
    "        filtered[str(clm) + ' - Second Week'] = array[1]\n",
    "        filtered[str(clm) + ' - Third Week'] = array[2]\n",
    "        filtered[str(clm) + ' - Forth Week'] = array[3]"
   ]
  },
  {
   "cell_type": "code",
   "execution_count": 131,
   "metadata": {},
   "outputs": [],
   "source": [
    "filtered = filtered.drop(columns_to, axis=1)"
   ]
  },
  {
   "cell_type": "code",
   "execution_count": 132,
   "metadata": {},
   "outputs": [
    {
     "data": {
      "text/html": [
       "<div>\n",
       "<style scoped>\n",
       "    .dataframe tbody tr th:only-of-type {\n",
       "        vertical-align: middle;\n",
       "    }\n",
       "\n",
       "    .dataframe tbody tr th {\n",
       "        vertical-align: top;\n",
       "    }\n",
       "\n",
       "    .dataframe thead th {\n",
       "        text-align: right;\n",
       "    }\n",
       "</style>\n",
       "<table border=\"1\" class=\"dataframe\">\n",
       "  <thead>\n",
       "    <tr style=\"text-align: right;\">\n",
       "      <th></th>\n",
       "      <th>MONTH</th>\n",
       "      <th>CUSTOMER_CODE</th>\n",
       "      <th>AREANAMEE</th>\n",
       "      <th>Lattitude</th>\n",
       "      <th>Longitude</th>\n",
       "      <th>Saturday  - First Week</th>\n",
       "      <th>Saturday  - Second Week</th>\n",
       "      <th>Saturday  - Third Week</th>\n",
       "      <th>Saturday  - Forth Week</th>\n",
       "      <th>Sunday  - First Week</th>\n",
       "      <th>Sunday  - Second Week</th>\n",
       "      <th>Sunday  - Third Week</th>\n",
       "      <th>Sunday  - Forth Week</th>\n",
       "      <th>Monday  - First Week</th>\n",
       "      <th>Monday  - Second Week</th>\n",
       "      <th>Monday  - Third Week</th>\n",
       "      <th>Monday  - Forth Week</th>\n",
       "      <th>Tuesday  - First Week</th>\n",
       "      <th>Tuesday  - Second Week</th>\n",
       "      <th>Tuesday  - Third Week</th>\n",
       "      <th>Tuesday  - Forth Week</th>\n",
       "      <th>Wednesday  - First Week</th>\n",
       "      <th>Wednesday  - Second Week</th>\n",
       "      <th>Wednesday  - Third Week</th>\n",
       "      <th>Wednesday  - Forth Week</th>\n",
       "      <th>Thursday  - First Week</th>\n",
       "      <th>Thursday  - Second Week</th>\n",
       "      <th>Thursday  - Third Week</th>\n",
       "      <th>Thursday  - Forth Week</th>\n",
       "      <th>Friday  - First Week</th>\n",
       "      <th>Friday  - Second Week</th>\n",
       "      <th>Friday  - Third Week</th>\n",
       "      <th>Friday  - Forth Week</th>\n",
       "    </tr>\n",
       "  </thead>\n",
       "  <tbody>\n",
       "    <tr>\n",
       "      <th>12371</th>\n",
       "      <td>1.0</td>\n",
       "      <td>350107805.0</td>\n",
       "      <td>Zeralda</td>\n",
       "      <td>36.71</td>\n",
       "      <td>2.84</td>\n",
       "      <td>0</td>\n",
       "      <td>0</td>\n",
       "      <td>0</td>\n",
       "      <td>0</td>\n",
       "      <td>0</td>\n",
       "      <td>0</td>\n",
       "      <td>0</td>\n",
       "      <td>0</td>\n",
       "      <td>0</td>\n",
       "      <td>0</td>\n",
       "      <td>0</td>\n",
       "      <td>0</td>\n",
       "      <td>0</td>\n",
       "      <td>0</td>\n",
       "      <td>0</td>\n",
       "      <td>0</td>\n",
       "      <td>0</td>\n",
       "      <td>0</td>\n",
       "      <td>0</td>\n",
       "      <td>0</td>\n",
       "      <td>1</td>\n",
       "      <td>1</td>\n",
       "      <td>1</td>\n",
       "      <td>1</td>\n",
       "      <td>0</td>\n",
       "      <td>0</td>\n",
       "      <td>0</td>\n",
       "      <td>0</td>\n",
       "    </tr>\n",
       "    <tr>\n",
       "      <th>27979</th>\n",
       "      <td>1.0</td>\n",
       "      <td>350107811.0</td>\n",
       "      <td>Zeralda</td>\n",
       "      <td>36.71</td>\n",
       "      <td>2.83</td>\n",
       "      <td>0</td>\n",
       "      <td>0</td>\n",
       "      <td>0</td>\n",
       "      <td>0</td>\n",
       "      <td>0</td>\n",
       "      <td>0</td>\n",
       "      <td>0</td>\n",
       "      <td>0</td>\n",
       "      <td>0</td>\n",
       "      <td>0</td>\n",
       "      <td>0</td>\n",
       "      <td>0</td>\n",
       "      <td>0</td>\n",
       "      <td>0</td>\n",
       "      <td>0</td>\n",
       "      <td>0</td>\n",
       "      <td>0</td>\n",
       "      <td>0</td>\n",
       "      <td>0</td>\n",
       "      <td>0</td>\n",
       "      <td>1</td>\n",
       "      <td>1</td>\n",
       "      <td>1</td>\n",
       "      <td>1</td>\n",
       "      <td>0</td>\n",
       "      <td>0</td>\n",
       "      <td>0</td>\n",
       "      <td>0</td>\n",
       "    </tr>\n",
       "    <tr>\n",
       "      <th>22978</th>\n",
       "      <td>1.0</td>\n",
       "      <td>90203118.0</td>\n",
       "      <td>Zeralda</td>\n",
       "      <td>36.71</td>\n",
       "      <td>2.84</td>\n",
       "      <td>0</td>\n",
       "      <td>0</td>\n",
       "      <td>0</td>\n",
       "      <td>0</td>\n",
       "      <td>0</td>\n",
       "      <td>0</td>\n",
       "      <td>0</td>\n",
       "      <td>0</td>\n",
       "      <td>0</td>\n",
       "      <td>0</td>\n",
       "      <td>0</td>\n",
       "      <td>0</td>\n",
       "      <td>0</td>\n",
       "      <td>0</td>\n",
       "      <td>0</td>\n",
       "      <td>0</td>\n",
       "      <td>0</td>\n",
       "      <td>0</td>\n",
       "      <td>0</td>\n",
       "      <td>0</td>\n",
       "      <td>1</td>\n",
       "      <td>1</td>\n",
       "      <td>1</td>\n",
       "      <td>1</td>\n",
       "      <td>0</td>\n",
       "      <td>0</td>\n",
       "      <td>0</td>\n",
       "      <td>0</td>\n",
       "    </tr>\n",
       "    <tr>\n",
       "      <th>32893</th>\n",
       "      <td>1.0</td>\n",
       "      <td>90203117.0</td>\n",
       "      <td>Zeralda</td>\n",
       "      <td>36.71</td>\n",
       "      <td>2.84</td>\n",
       "      <td>0</td>\n",
       "      <td>0</td>\n",
       "      <td>0</td>\n",
       "      <td>0</td>\n",
       "      <td>0</td>\n",
       "      <td>0</td>\n",
       "      <td>0</td>\n",
       "      <td>0</td>\n",
       "      <td>0</td>\n",
       "      <td>0</td>\n",
       "      <td>0</td>\n",
       "      <td>0</td>\n",
       "      <td>0</td>\n",
       "      <td>0</td>\n",
       "      <td>0</td>\n",
       "      <td>0</td>\n",
       "      <td>0</td>\n",
       "      <td>0</td>\n",
       "      <td>0</td>\n",
       "      <td>0</td>\n",
       "      <td>1</td>\n",
       "      <td>1</td>\n",
       "      <td>1</td>\n",
       "      <td>1</td>\n",
       "      <td>0</td>\n",
       "      <td>0</td>\n",
       "      <td>0</td>\n",
       "      <td>0</td>\n",
       "    </tr>\n",
       "    <tr>\n",
       "      <th>27980</th>\n",
       "      <td>1.0</td>\n",
       "      <td>350107815.0</td>\n",
       "      <td>Zeralda</td>\n",
       "      <td>36.71</td>\n",
       "      <td>2.84</td>\n",
       "      <td>0</td>\n",
       "      <td>0</td>\n",
       "      <td>0</td>\n",
       "      <td>0</td>\n",
       "      <td>0</td>\n",
       "      <td>0</td>\n",
       "      <td>0</td>\n",
       "      <td>0</td>\n",
       "      <td>0</td>\n",
       "      <td>0</td>\n",
       "      <td>0</td>\n",
       "      <td>0</td>\n",
       "      <td>0</td>\n",
       "      <td>0</td>\n",
       "      <td>0</td>\n",
       "      <td>0</td>\n",
       "      <td>0</td>\n",
       "      <td>0</td>\n",
       "      <td>0</td>\n",
       "      <td>0</td>\n",
       "      <td>1</td>\n",
       "      <td>1</td>\n",
       "      <td>1</td>\n",
       "      <td>1</td>\n",
       "      <td>0</td>\n",
       "      <td>0</td>\n",
       "      <td>0</td>\n",
       "      <td>0</td>\n",
       "    </tr>\n",
       "  </tbody>\n",
       "</table>\n",
       "</div>"
      ],
      "text/plain": [
       "      MONTH  CUSTOMER_CODE  AREANAMEE  Lattitude  Longitude   \\\n",
       "12371    1.0    350107805.0   Zeralda      36.71       2.84    \n",
       "27979    1.0    350107811.0   Zeralda      36.71       2.83    \n",
       "22978    1.0     90203118.0   Zeralda      36.71       2.84    \n",
       "32893    1.0     90203117.0   Zeralda      36.71       2.84    \n",
       "27980    1.0    350107815.0   Zeralda      36.71       2.84    \n",
       "\n",
       "       Saturday  - First Week  Saturday  - Second Week  \\\n",
       "12371                       0                        0   \n",
       "27979                       0                        0   \n",
       "22978                       0                        0   \n",
       "32893                       0                        0   \n",
       "27980                       0                        0   \n",
       "\n",
       "       Saturday  - Third Week  Saturday  - Forth Week  Sunday  - First Week  \\\n",
       "12371                       0                       0                     0   \n",
       "27979                       0                       0                     0   \n",
       "22978                       0                       0                     0   \n",
       "32893                       0                       0                     0   \n",
       "27980                       0                       0                     0   \n",
       "\n",
       "       Sunday  - Second Week  Sunday  - Third Week  Sunday  - Forth Week  \\\n",
       "12371                      0                     0                     0   \n",
       "27979                      0                     0                     0   \n",
       "22978                      0                     0                     0   \n",
       "32893                      0                     0                     0   \n",
       "27980                      0                     0                     0   \n",
       "\n",
       "       Monday  - First Week  Monday  - Second Week  Monday  - Third Week  \\\n",
       "12371                     0                      0                     0   \n",
       "27979                     0                      0                     0   \n",
       "22978                     0                      0                     0   \n",
       "32893                     0                      0                     0   \n",
       "27980                     0                      0                     0   \n",
       "\n",
       "       Monday  - Forth Week  Tuesday  - First Week  Tuesday  - Second Week  \\\n",
       "12371                     0                      0                       0   \n",
       "27979                     0                      0                       0   \n",
       "22978                     0                      0                       0   \n",
       "32893                     0                      0                       0   \n",
       "27980                     0                      0                       0   \n",
       "\n",
       "       Tuesday  - Third Week  Tuesday  - Forth Week  Wednesday  - First Week  \\\n",
       "12371                      0                      0                        0   \n",
       "27979                      0                      0                        0   \n",
       "22978                      0                      0                        0   \n",
       "32893                      0                      0                        0   \n",
       "27980                      0                      0                        0   \n",
       "\n",
       "       Wednesday  - Second Week  Wednesday  - Third Week  \\\n",
       "12371                         0                        0   \n",
       "27979                         0                        0   \n",
       "22978                         0                        0   \n",
       "32893                         0                        0   \n",
       "27980                         0                        0   \n",
       "\n",
       "       Wednesday  - Forth Week  Thursday  - First Week  \\\n",
       "12371                        0                       1   \n",
       "27979                        0                       1   \n",
       "22978                        0                       1   \n",
       "32893                        0                       1   \n",
       "27980                        0                       1   \n",
       "\n",
       "       Thursday  - Second Week  Thursday  - Third Week  \\\n",
       "12371                        1                       1   \n",
       "27979                        1                       1   \n",
       "22978                        1                       1   \n",
       "32893                        1                       1   \n",
       "27980                        1                       1   \n",
       "\n",
       "       Thursday  - Forth Week  Friday  - First Week  Friday  - Second Week  \\\n",
       "12371                       1                     0                      0   \n",
       "27979                       1                     0                      0   \n",
       "22978                       1                     0                      0   \n",
       "32893                       1                     0                      0   \n",
       "27980                       1                     0                      0   \n",
       "\n",
       "       Friday  - Third Week  Friday  - Forth Week  \n",
       "12371                     0                     0  \n",
       "27979                     0                     0  \n",
       "22978                     0                     0  \n",
       "32893                     0                     0  \n",
       "27980                     0                     0  "
      ]
     },
     "execution_count": 132,
     "metadata": {},
     "output_type": "execute_result"
    }
   ],
   "source": [
    "filtered.tail()"
   ]
  },
  {
   "cell_type": "code",
   "execution_count": 38,
   "metadata": {},
   "outputs": [],
   "source": [
    "test = filtered.drop_duplicates(subset=[' AREANAMEE '])"
   ]
  },
  {
   "cell_type": "code",
   "execution_count": 39,
   "metadata": {},
   "outputs": [
    {
     "data": {
      "text/plain": [
       "(59, 31)"
      ]
     },
     "execution_count": 39,
     "metadata": {},
     "output_type": "execute_result"
    }
   ],
   "source": [
    "test.shape"
   ]
  },
  {
   "cell_type": "code",
   "execution_count": 133,
   "metadata": {
    "scrolled": true
   },
   "outputs": [
    {
     "data": {
      "text/plain": [
       "2372"
      ]
     },
     "execution_count": 133,
     "metadata": {},
     "output_type": "execute_result"
    }
   ],
   "source": [
    "sorted_df = filtered.sort_values(by=' AREANAMEE ')\n",
    "len(sorted_df[' AREANAMEE '])"
   ]
  },
  {
   "cell_type": "code",
   "execution_count": 134,
   "metadata": {},
   "outputs": [
    {
     "data": {
      "text/plain": [
       "0"
      ]
     },
     "execution_count": 134,
     "metadata": {},
     "output_type": "execute_result"
    }
   ],
   "source": [
    "np.sum(sorted_df.loc[sorted_df[' AREANAMEE '] == ' A?n Benian ', [' Saturday  - Third Week']].values)"
   ]
  },
  {
   "cell_type": "code",
   "execution_count": 135,
   "metadata": {
    "scrolled": true
   },
   "outputs": [
    {
     "data": {
      "text/plain": [
       "Index([' MONTH ', ' CUSTOMER_CODE ', ' AREANAMEE ', ' Lattitude ',\n",
       "       ' Longitude ', ' Saturday  - First Week', ' Saturday  - Second Week',\n",
       "       ' Saturday  - Third Week', ' Saturday  - Forth Week',\n",
       "       ' Sunday  - First Week', ' Sunday  - Second Week',\n",
       "       ' Sunday  - Third Week', ' Sunday  - Forth Week',\n",
       "       ' Monday  - First Week', ' Monday  - Second Week',\n",
       "       ' Monday  - Third Week', ' Monday  - Forth Week',\n",
       "       ' Tuesday  - First Week', ' Tuesday  - Second Week',\n",
       "       ' Tuesday  - Third Week', ' Tuesday  - Forth Week',\n",
       "       ' Wednesday  - First Week', ' Wednesday  - Second Week',\n",
       "       ' Wednesday  - Third Week', ' Wednesday  - Forth Week',\n",
       "       ' Thursday  - First Week', ' Thursday  - Second Week',\n",
       "       ' Thursday  - Third Week', ' Thursday  - Forth Week',\n",
       "       ' Friday  - First Week', ' Friday  - Second Week',\n",
       "       ' Friday  - Third Week', ' Friday  - Forth Week'],\n",
       "      dtype='object')"
      ]
     },
     "execution_count": 135,
     "metadata": {},
     "output_type": "execute_result"
    }
   ],
   "source": [
    "sorted_df.columns"
   ]
  },
  {
   "cell_type": "code",
   "execution_count": 136,
   "metadata": {},
   "outputs": [
    {
     "data": {
      "text/plain": [
       "(59, 2)"
      ]
     },
     "execution_count": 136,
     "metadata": {},
     "output_type": "execute_result"
    }
   ],
   "source": [
    "x = pd.DataFrame(sorted_df.drop_duplicates(subset=[' AREANAMEE '])[' AREANAMEE '].values, columns=['Area Name']).reset_index(0)\n",
    "x.shape"
   ]
  },
  {
   "cell_type": "code",
   "execution_count": 137,
   "metadata": {},
   "outputs": [
    {
     "data": {
      "text/plain": [
       "(59, 31)"
      ]
     },
     "execution_count": 137,
     "metadata": {},
     "output_type": "execute_result"
    }
   ],
   "source": [
    "y = sorted_df.drop_duplicates(subset=[' AREANAMEE ']).loc[:, sorted_df.columns[3:]].reset_index(0)\n",
    "y.shape"
   ]
  },
  {
   "cell_type": "code",
   "execution_count": 138,
   "metadata": {},
   "outputs": [],
   "source": [
    "sorted_clean = pd.concat([x, y], axis=1).reset_index(0)\n",
    "columns_to_put = [' Saturday  - First Week', ' Saturday  - Second Week',\n",
    "       ' Saturday  - Third Week', ' Saturday  - Forth Week',\n",
    "       ' Sunday  - First Week', ' Sunday  - Second Week',\n",
    "       ' Sunday  - Third Week', ' Sunday  - Forth Week',\n",
    "       ' Monday  - First Week', ' Monday  - Second Week',\n",
    "       ' Monday  - Third Week', ' Monday  - Forth Week',\n",
    "       ' Tuesday  - First Week', ' Tuesday  - Second Week',\n",
    "       ' Tuesday  - Third Week', ' Tuesday  - Forth Week',\n",
    "       ' Wednesday  - First Week', ' Wednesday  - Second Week',\n",
    "       ' Wednesday  - Third Week', ' Wednesday  - Forth Week',\n",
    "       ' Thursday  - First Week', ' Thursday  - Second Week',\n",
    "       ' Thursday  - Third Week', ' Thursday  - Forth Week',\n",
    "       ' Friday  - First Week', ' Friday  - Second Week',\n",
    "       ' Friday  - Third Week', ' Friday  - Forth Week']"
   ]
  },
  {
   "cell_type": "code",
   "execution_count": 139,
   "metadata": {},
   "outputs": [
    {
     "data": {
      "text/plain": [
       "(59, 34)"
      ]
     },
     "execution_count": 139,
     "metadata": {},
     "output_type": "execute_result"
    }
   ],
   "source": [
    "sorted_clean.shape"
   ]
  },
  {
   "cell_type": "code",
   "execution_count": 140,
   "metadata": {},
   "outputs": [],
   "source": [
    "for area in sorted_clean['Area Name'].unique():\n",
    "    for column in columns_to_put:\n",
    "        sorted_clean.loc[sorted_clean['Area Name'] == area,[column]] = np.sum(sorted_df.loc[sorted_df[' AREANAMEE '] == area, :].loc[:, [column]].values)"
   ]
  },
  {
   "cell_type": "code",
   "execution_count": 141,
   "metadata": {},
   "outputs": [
    {
     "data": {
      "text/plain": [
       "59"
      ]
     },
     "execution_count": 141,
     "metadata": {},
     "output_type": "execute_result"
    }
   ],
   "source": [
    "len(sorted_clean['Area Name'])"
   ]
  },
  {
   "cell_type": "code",
   "execution_count": 145,
   "metadata": {},
   "outputs": [
    {
     "data": {
      "text/plain": [
       "Index(['Area Name', ' Lattitude ', ' Longitude ', ' Saturday  - First Week',\n",
       "       ' Saturday  - Second Week', ' Saturday  - Third Week',\n",
       "       ' Saturday  - Forth Week', ' Sunday  - First Week',\n",
       "       ' Sunday  - Second Week', ' Sunday  - Third Week',\n",
       "       ' Sunday  - Forth Week', ' Monday  - First Week',\n",
       "       ' Monday  - Second Week', ' Monday  - Third Week',\n",
       "       ' Monday  - Forth Week', ' Tuesday  - First Week',\n",
       "       ' Tuesday  - Second Week', ' Tuesday  - Third Week',\n",
       "       ' Tuesday  - Forth Week', ' Wednesday  - First Week',\n",
       "       ' Wednesday  - Second Week', ' Wednesday  - Third Week',\n",
       "       ' Wednesday  - Forth Week', ' Thursday  - First Week',\n",
       "       ' Thursday  - Second Week', ' Thursday  - Third Week',\n",
       "       ' Thursday  - Forth Week', ' Friday  - First Week',\n",
       "       ' Friday  - Second Week', ' Friday  - Third Week',\n",
       "       ' Friday  - Forth Week'],\n",
       "      dtype='object')"
      ]
     },
     "execution_count": 145,
     "metadata": {},
     "output_type": "execute_result"
    }
   ],
   "source": [
    "sorted_clean.columns"
   ]
  },
  {
   "cell_type": "code",
   "execution_count": 144,
   "metadata": {},
   "outputs": [],
   "source": [
    "sorted_clean.drop(['level_0', 'index','index'], axis=1, inplace=True)"
   ]
  },
  {
   "cell_type": "code",
   "execution_count": 146,
   "metadata": {},
   "outputs": [],
   "source": [
    "sorted_clean.to_csv('Unilever_cleaned.csv', index=False)"
   ]
  },
  {
   "cell_type": "code",
   "execution_count": null,
   "metadata": {},
   "outputs": [],
   "source": []
  }
 ],
 "metadata": {
  "kernelspec": {
   "display_name": "Python 3 (ipykernel)",
   "language": "python",
   "name": "python3"
  },
  "language_info": {
   "codemirror_mode": {
    "name": "ipython",
    "version": 3
   },
   "file_extension": ".py",
   "mimetype": "text/x-python",
   "name": "python",
   "nbconvert_exporter": "python",
   "pygments_lexer": "ipython3",
   "version": "3.12.3"
  }
 },
 "nbformat": 4,
 "nbformat_minor": 4
}
